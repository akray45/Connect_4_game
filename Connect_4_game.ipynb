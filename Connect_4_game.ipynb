{
 "cells": [
  {
   "cell_type": "code",
   "execution_count": null,
   "metadata": {},
   "outputs": [],
   "source": [
    "#Game connect 4"
   ]
  },
  {
   "cell_type": "code",
   "execution_count": null,
   "metadata": {},
   "outputs": [],
   "source": [
    "# Required Libararies\n",
    "import numpy as np\n",
    "import pygame\n",
    "import sys\n",
    "import math\n",
    "rows=6\n",
    "columns=7\n",
    "square_size=100\n",
    "Radius=int(square_size/2 -5)"
   ]
  },
  {
   "cell_type": "code",
   "execution_count": null,
   "metadata": {},
   "outputs": [],
   "source": [
    "#create board\n",
    "def create_board():\n",
    "    board=np.zeros((rows,columns))\n",
    "    return board\n",
    "def is_valid_choice(board,col):\n",
    "    return board[rows-1][col]==0\n",
    "def next_aval_row(board,col):\n",
    "    for i in range(rows):\n",
    "        if board[i][col]==0:\n",
    "            return i\n",
    "def drop_piece(board,col,row,peice):\n",
    "    board[row][col]=peice\n",
    "def winning_move(board,peice):\n",
    "    #horizontal\n",
    "    for c in range(columns):\n",
    "        for r in range(rows):\n",
    "            if board[r][c]==peice and board[r][c+1]==peice and board[r][c+2]==peice and board[r][c+3]==peice:\n",
    "                    return True\n",
    "    #vertical\n",
    "    for c in range(columns):\n",
    "        for r in range(rows-3):\n",
    "            if board[r][c]==peice and board[r+1][c]==peice and board[r+2][c]==peice and board[r+3][c]==peice:\n",
    "                    return True\n",
    "    #diagonal\n",
    "    for c in range(columns-3):\n",
    "        for r in range(rows-3):\n",
    "            if board[r][c]==peice and board[r+1][c+1]==peice and board[r+2][c+2]==peice and board[r+3][c+3]==peice:\n",
    "                    return True\n",
    "    #diagonal rows -ve col +ve\n",
    "    for c in range(columns-3):\n",
    "        for r in range(3,rows):\n",
    "            if board[r][c]==peice and board[r-1][c+1]==peice and board[r-2][c+2]==peice and board[r-3][c+3]==peice:\n",
    "                    return True\n",
    "def py_display(board):\n",
    "    for c in range(columns):\n",
    "        for r in range(rows):\n",
    "            pygame.draw.rect(screen,(0,0,255),(c*square_size,r*square_size+square_size,square_size,square_size))\n",
    "            pygame.draw.circle(screen,(0,0,0),(c*square_size+int(square_size/2),r*square_size+square_size+int(square_size/2)),Radius)\n",
    "    for c in range(columns):\n",
    "        for r in range(rows):\n",
    "            if board[r][c] == 1:\n",
    "                pygame.draw.circle(screen, (255,0,0), (int(c*square_size+square_size/2), height-int(r*square_size+square_size/2)), Radius)\n",
    "            elif board[r][c] == 2: \n",
    "                pygame.draw.circle(screen, (255,255,0), (int(c*square_size+square_size/2), height-int(r*square_size+square_size/2)), Radius)\n",
    "    pygame.display.update() "
   ]
  },
  {
   "cell_type": "code",
   "execution_count": null,
   "metadata": {},
   "outputs": [],
   "source": [
    "board=create_board()"
   ]
  },
  {
   "cell_type": "code",
   "execution_count": null,
   "metadata": {},
   "outputs": [],
   "source": [
    "print(board)"
   ]
  },
  {
   "cell_type": "code",
   "execution_count": null,
   "metadata": {},
   "outputs": [],
   "source": [
    "game_over=False\n",
    "turn=0\n",
    "pygame.init()\n",
    "width=columns*square_size\n",
    "height=(rows+1)*square_size\n",
    "size=(height,width)\n",
    "screen=pygame.display.set_mode(size)\n",
    "py_display(board)\n",
    "pygame.display.update()\n",
    "myfont = pygame.font.SysFont(\"monospace\", 75)\n",
    "while not game_over:\n",
    "    for event in pygame.event.get():\n",
    "        if event.type==pygame.QUIT:\n",
    "            sys.exit()\n",
    "        if event.type == pygame.MOUSEMOTION:\n",
    "            pygame.draw.rect(screen, (0,0,0), (0,0, width, square_size))\n",
    "            posx = event.pos[0]\n",
    "            if turn == 0:\n",
    "                pygame.draw.circle(screen, (255,0,0), (posx, int(square_size/2)), Radius)\n",
    "            else: \n",
    "                pygame.draw.circle(screen, (255,255,0), (posx, int(square_size/2)), Radius)\n",
    "        pygame.display.update()\n",
    "        if event.type == pygame.MOUSEBUTTONDOWN:\n",
    "            pygame.draw.rect(screen, (0,0,0), (0,0, width, square_size))\n",
    "            if turn ==0:\n",
    "                posx = event.pos[0]\n",
    "                col = int(math.floor(posx/square_size))\n",
    "                if is_valid_choice(board,col):\n",
    "                    row=next_aval_row(board,col)\n",
    "                    drop_piece(board,col,row,1)\n",
    "                    if winning_move(board,1):\n",
    "                        label = myfont.render(\"Player 1 wins!!\", 1, (255,0,0))\n",
    "                        screen.blit(label, (40,10))\n",
    "                        game_over = True\n",
    "            else:\n",
    "                posx = event.pos[0]\n",
    "                col = int(math.floor(posx/square_size))\n",
    "                if is_valid_choice(board,col):\n",
    "                    row=next_aval_row(board,col)\n",
    "                    drop_piece(board,col,row,2)\n",
    "                    if winning_move(board,2):\n",
    "                        label = myfont.render(\"Player 2 wins!!\", 1, (255,0,0))\n",
    "                        screen.blit(label, (40,10))\n",
    "                        game_over = True\n",
    "            print(board)\n",
    "            py_display(board)\n",
    "            turn+=1\n",
    "            turn=turn%2\n",
    "            if game_over:\n",
    "                pygame.time.wait(3000)\n"
   ]
  }
 ],
 "metadata": {
  "kernelspec": {
   "display_name": "Python 3",
   "language": "python",
   "name": "python3"
  },
  "language_info": {
   "codemirror_mode": {
    "name": "ipython",
    "version": 3
   },
   "file_extension": ".py",
   "mimetype": "text/x-python",
   "name": "python",
   "nbconvert_exporter": "python",
   "pygments_lexer": "ipython3",
   "version": "3.7.3"
  },
  "latex_envs": {
   "LaTeX_envs_menu_present": true,
   "autoclose": false,
   "autocomplete": true,
   "bibliofile": "biblio.bib",
   "cite_by": "apalike",
   "current_citInitial": 1,
   "eqLabelWithNumbers": true,
   "eqNumInitial": 1,
   "hotkeys": {
    "equation": "Ctrl-E",
    "itemize": "Ctrl-I"
   },
   "labels_anchors": false,
   "latex_user_defs": false,
   "report_style_numbering": false,
   "user_envs_cfg": false
  }
 },
 "nbformat": 4,
 "nbformat_minor": 4
}
